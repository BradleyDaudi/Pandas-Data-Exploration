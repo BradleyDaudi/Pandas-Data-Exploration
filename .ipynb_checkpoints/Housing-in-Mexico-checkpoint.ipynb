{
 "cells": [
  {
   "cell_type": "code",
   "execution_count": 3,
   "id": "7768a130",
   "metadata": {},
   "outputs": [
    {
     "data": {
      "text/plain": [
       "'C:\\\\Users\\\\admin\\\\Desktop\\\\Personal stuff\\\\Worldquant'"
      ]
     },
     "execution_count": 3,
     "metadata": {},
     "output_type": "execute_result"
    }
   ],
   "source": [
    "pwd"
   ]
  },
  {
   "cell_type": "code",
   "execution_count": 4,
   "id": "b67cb0ec",
   "metadata": {},
   "outputs": [],
   "source": [
    "#importing the libraries and modules\n",
    "import pandas as pd\n",
    "import numpy as np"
   ]
  },
  {
   "cell_type": "code",
   "execution_count": 5,
   "id": "f16228bd",
   "metadata": {},
   "outputs": [],
   "source": [
    "#importing the dataset in csv format\n",
    "df = pd.read_csv (\"Housing-in-Mexico.csv\")"
   ]
  },
  {
   "cell_type": "markdown",
   "id": "9ad7fef5",
   "metadata": {},
   "source": [
    "## Data Cleaning"
   ]
  },
  {
   "cell_type": "code",
   "execution_count": 6,
   "id": "200703d8",
   "metadata": {},
   "outputs": [
    {
     "data": {
      "text/plain": [
       "(1000, 6)"
      ]
     },
     "execution_count": 6,
     "metadata": {},
     "output_type": "execute_result"
    }
   ],
   "source": [
    "#Checking for the shape of the dataset i.e the number of observations and features\n",
    "df.shape"
   ]
  },
  {
   "cell_type": "code",
   "execution_count": 7,
   "id": "ece50d48",
   "metadata": {},
   "outputs": [
    {
     "name": "stdout",
     "output_type": "stream",
     "text": [
      "<class 'pandas.core.frame.DataFrame'>\n",
      "RangeIndex: 1000 entries, 0 to 999\n",
      "Data columns (total 6 columns):\n",
      " #   Column         Non-Null Count  Dtype  \n",
      "---  ------         --------------  -----  \n",
      " 0   property_type  1000 non-null   object \n",
      " 1   state          133 non-null    object \n",
      " 2   latitude       1000 non-null   float64\n",
      " 3   longitude      1000 non-null   float64\n",
      " 4   area           1000 non-null   float64\n",
      " 5   price          1000 non-null   float64\n",
      "dtypes: float64(4), object(2)\n",
      "memory usage: 47.0+ KB\n"
     ]
    }
   ],
   "source": [
    "#Checking for the datatypes of the dataset\n",
    "df.info()"
   ]
  },
  {
   "cell_type": "code",
   "execution_count": 8,
   "id": "290a5755",
   "metadata": {},
   "outputs": [
    {
     "data": {
      "text/html": [
       "<div>\n",
       "<style scoped>\n",
       "    .dataframe tbody tr th:only-of-type {\n",
       "        vertical-align: middle;\n",
       "    }\n",
       "\n",
       "    .dataframe tbody tr th {\n",
       "        vertical-align: top;\n",
       "    }\n",
       "\n",
       "    .dataframe thead th {\n",
       "        text-align: right;\n",
       "    }\n",
       "</style>\n",
       "<table border=\"1\" class=\"dataframe\">\n",
       "  <thead>\n",
       "    <tr style=\"text-align: right;\">\n",
       "      <th></th>\n",
       "      <th>property_type</th>\n",
       "      <th>state</th>\n",
       "      <th>latitude</th>\n",
       "      <th>longitude</th>\n",
       "      <th>area</th>\n",
       "      <th>price</th>\n",
       "    </tr>\n",
       "  </thead>\n",
       "  <tbody>\n",
       "    <tr>\n",
       "      <th>0</th>\n",
       "      <td>townhouse</td>\n",
       "      <td>NaN</td>\n",
       "      <td>43.258740</td>\n",
       "      <td>17.888008</td>\n",
       "      <td>434.97</td>\n",
       "      <td>541884.90</td>\n",
       "    </tr>\n",
       "    <tr>\n",
       "      <th>1</th>\n",
       "      <td>house</td>\n",
       "      <td>NaN</td>\n",
       "      <td>34.620202</td>\n",
       "      <td>112.453926</td>\n",
       "      <td>348.25</td>\n",
       "      <td>601831.32</td>\n",
       "    </tr>\n",
       "    <tr>\n",
       "      <th>2</th>\n",
       "      <td>condo</td>\n",
       "      <td>NaN</td>\n",
       "      <td>-4.163679</td>\n",
       "      <td>18.807620</td>\n",
       "      <td>729.05</td>\n",
       "      <td>153199.73</td>\n",
       "    </tr>\n",
       "    <tr>\n",
       "      <th>3</th>\n",
       "      <td>townhouse</td>\n",
       "      <td>NaN</td>\n",
       "      <td>22.826877</td>\n",
       "      <td>107.840624</td>\n",
       "      <td>431.57</td>\n",
       "      <td>646160.13</td>\n",
       "    </tr>\n",
       "    <tr>\n",
       "      <th>4</th>\n",
       "      <td>villa</td>\n",
       "      <td>NaN</td>\n",
       "      <td>27.483293</td>\n",
       "      <td>120.562211</td>\n",
       "      <td>135.08</td>\n",
       "      <td>885208.53</td>\n",
       "    </tr>\n",
       "  </tbody>\n",
       "</table>\n",
       "</div>"
      ],
      "text/plain": [
       "  property_type state   latitude   longitude    area      price\n",
       "0     townhouse   NaN  43.258740   17.888008  434.97  541884.90\n",
       "1         house   NaN  34.620202  112.453926  348.25  601831.32\n",
       "2         condo   NaN  -4.163679   18.807620  729.05  153199.73\n",
       "3     townhouse   NaN  22.826877  107.840624  431.57  646160.13\n",
       "4         villa   NaN  27.483293  120.562211  135.08  885208.53"
      ]
     },
     "execution_count": 8,
     "metadata": {},
     "output_type": "execute_result"
    }
   ],
   "source": [
    "#Checking for the first 5 rows\n",
    "df.head()"
   ]
  },
  {
   "cell_type": "code",
   "execution_count": 10,
   "id": "59d02175",
   "metadata": {},
   "outputs": [
    {
     "data": {
      "text/plain": [
       "0      541884.90\n",
       "1      601831.32\n",
       "2      153199.73\n",
       "3      646160.13\n",
       "4      885208.53\n",
       "         ...    \n",
       "995    432552.01\n",
       "996    302069.21\n",
       "997    568993.49\n",
       "998    988252.37\n",
       "999    135853.59\n",
       "Name: price, Length: 1000, dtype: float64"
      ]
     },
     "execution_count": 10,
     "metadata": {},
     "output_type": "execute_result"
    }
   ],
   "source": [
    "#Checking for the values in a particular column-shows frist and last 5\n",
    "df['price']"
   ]
  },
  {
   "cell_type": "code",
   "execution_count": 12,
   "id": "98ab40a0",
   "metadata": {},
   "outputs": [
    {
     "data": {
      "text/plain": [
       "50    346695.40\n",
       "51    538717.27\n",
       "52     65041.67\n",
       "53    757693.48\n",
       "54    111287.18\n",
       "55    527265.11\n",
       "56    721955.13\n",
       "57    251339.94\n",
       "58    929802.73\n",
       "59    889550.81\n",
       "60    610061.33\n",
       "Name: price, dtype: float64"
      ]
     },
     "execution_count": 12,
     "metadata": {},
     "output_type": "execute_result"
    }
   ],
   "source": [
    "#Checking for the values between observations (50-60) in price.\n",
    "df.price[50:61]"
   ]
  },
  {
   "cell_type": "code",
   "execution_count": null,
   "id": "a71b4850",
   "metadata": {},
   "outputs": [],
   "source": []
  }
 ],
 "metadata": {
  "kernelspec": {
   "display_name": "Python 3 (ipykernel)",
   "language": "python",
   "name": "python3"
  },
  "language_info": {
   "codemirror_mode": {
    "name": "ipython",
    "version": 3
   },
   "file_extension": ".py",
   "mimetype": "text/x-python",
   "name": "python",
   "nbconvert_exporter": "python",
   "pygments_lexer": "ipython3",
   "version": "3.11.3"
  }
 },
 "nbformat": 4,
 "nbformat_minor": 5
}
