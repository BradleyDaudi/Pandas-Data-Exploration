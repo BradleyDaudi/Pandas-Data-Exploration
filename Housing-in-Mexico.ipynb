{
 "cells": [
  {
   "cell_type": "code",
   "execution_count": 1,
   "id": "ddf681c9",
   "metadata": {},
   "outputs": [
    {
     "data": {
      "text/plain": [
       "'C:\\\\Users\\\\admin\\\\Desktop\\\\Personal stuff\\\\Datascience- Pandas with python\\\\Proj1-Housing'"
      ]
     },
     "execution_count": 1,
     "metadata": {},
     "output_type": "execute_result"
    }
   ],
   "source": [
    "pwd"
   ]
  },
  {
   "cell_type": "code",
   "execution_count": 2,
   "id": "c238ae29",
   "metadata": {},
   "outputs": [],
   "source": [
    "#importing the libraries and modules\n",
    "import pandas as pd\n",
    "import numpy as np"
   ]
  },
  {
   "cell_type": "code",
   "execution_count": 3,
   "id": "b830be99",
   "metadata": {},
   "outputs": [],
   "source": [
    "#importing the dataset in csv format\n",
    "df = pd.read_csv (\"Housing-in-Mexico.csv\")"
   ]
  },
  {
   "cell_type": "markdown",
   "id": "4d3ea2bc",
   "metadata": {},
   "source": [
    "## Data Cleaning"
   ]
  },
  {
   "cell_type": "code",
   "execution_count": 4,
   "id": "a58076b8",
   "metadata": {},
   "outputs": [
    {
     "data": {
      "text/plain": [
       "(1000, 6)"
      ]
     },
     "execution_count": 4,
     "metadata": {},
     "output_type": "execute_result"
    }
   ],
   "source": [
    "#Checking for the shape of the dataset i.e the number of observations and features\n",
    "df.shape"
   ]
  },
  {
   "cell_type": "code",
   "execution_count": 5,
   "id": "d6948f8f",
   "metadata": {},
   "outputs": [
    {
     "name": "stdout",
     "output_type": "stream",
     "text": [
      "<class 'pandas.core.frame.DataFrame'>\n",
      "RangeIndex: 1000 entries, 0 to 999\n",
      "Data columns (total 6 columns):\n",
      " #   Column         Non-Null Count  Dtype  \n",
      "---  ------         --------------  -----  \n",
      " 0   property_type  1000 non-null   object \n",
      " 1   state          133 non-null    object \n",
      " 2   latitude       1000 non-null   float64\n",
      " 3   longitude      1000 non-null   float64\n",
      " 4   area           1000 non-null   float64\n",
      " 5   price          1000 non-null   object \n",
      "dtypes: float64(3), object(3)\n",
      "memory usage: 47.0+ KB\n"
     ]
    }
   ],
   "source": [
    "#Checking for the datatypes of the dataset\n",
    "df.info()"
   ]
  },
  {
   "cell_type": "code",
   "execution_count": 6,
   "id": "60054259",
   "metadata": {},
   "outputs": [
    {
     "data": {
      "text/html": [
       "<div>\n",
       "<style scoped>\n",
       "    .dataframe tbody tr th:only-of-type {\n",
       "        vertical-align: middle;\n",
       "    }\n",
       "\n",
       "    .dataframe tbody tr th {\n",
       "        vertical-align: top;\n",
       "    }\n",
       "\n",
       "    .dataframe thead th {\n",
       "        text-align: right;\n",
       "    }\n",
       "</style>\n",
       "<table border=\"1\" class=\"dataframe\">\n",
       "  <thead>\n",
       "    <tr style=\"text-align: right;\">\n",
       "      <th></th>\n",
       "      <th>property_type</th>\n",
       "      <th>state</th>\n",
       "      <th>latitude</th>\n",
       "      <th>longitude</th>\n",
       "      <th>area</th>\n",
       "      <th>price</th>\n",
       "    </tr>\n",
       "  </thead>\n",
       "  <tbody>\n",
       "    <tr>\n",
       "      <th>0</th>\n",
       "      <td>townhouse</td>\n",
       "      <td>NaN</td>\n",
       "      <td>43.258740</td>\n",
       "      <td>17.888008</td>\n",
       "      <td>434.97</td>\n",
       "      <td>$541,885</td>\n",
       "    </tr>\n",
       "    <tr>\n",
       "      <th>1</th>\n",
       "      <td>house</td>\n",
       "      <td>NaN</td>\n",
       "      <td>34.620202</td>\n",
       "      <td>112.453926</td>\n",
       "      <td>348.25</td>\n",
       "      <td>$601,831</td>\n",
       "    </tr>\n",
       "    <tr>\n",
       "      <th>2</th>\n",
       "      <td>condo</td>\n",
       "      <td>NaN</td>\n",
       "      <td>-4.163679</td>\n",
       "      <td>18.807620</td>\n",
       "      <td>729.05</td>\n",
       "      <td>$153,200</td>\n",
       "    </tr>\n",
       "    <tr>\n",
       "      <th>3</th>\n",
       "      <td>townhouse</td>\n",
       "      <td>NaN</td>\n",
       "      <td>22.826877</td>\n",
       "      <td>107.840624</td>\n",
       "      <td>431.57</td>\n",
       "      <td>$646,160</td>\n",
       "    </tr>\n",
       "    <tr>\n",
       "      <th>4</th>\n",
       "      <td>villa</td>\n",
       "      <td>NaN</td>\n",
       "      <td>27.483293</td>\n",
       "      <td>120.562211</td>\n",
       "      <td>135.08</td>\n",
       "      <td>$885,209</td>\n",
       "    </tr>\n",
       "  </tbody>\n",
       "</table>\n",
       "</div>"
      ],
      "text/plain": [
       "  property_type state   latitude   longitude    area     price\n",
       "0     townhouse   NaN  43.258740   17.888008  434.97  $541,885\n",
       "1         house   NaN  34.620202  112.453926  348.25  $601,831\n",
       "2         condo   NaN  -4.163679   18.807620  729.05  $153,200\n",
       "3     townhouse   NaN  22.826877  107.840624  431.57  $646,160\n",
       "4         villa   NaN  27.483293  120.562211  135.08  $885,209"
      ]
     },
     "execution_count": 6,
     "metadata": {},
     "output_type": "execute_result"
    }
   ],
   "source": [
    "#Checking for the first 5 rows\n",
    "df.head()"
   ]
  },
  {
   "cell_type": "code",
   "execution_count": 7,
   "id": "35679f8d",
   "metadata": {},
   "outputs": [
    {
     "data": {
      "text/plain": [
       "0      $541,885\n",
       "1      $601,831\n",
       "2      $153,200\n",
       "3      $646,160\n",
       "4      $885,209\n",
       "         ...   \n",
       "995    $432,552\n",
       "996    $302,069\n",
       "997    $568,993\n",
       "998    $988,252\n",
       "999    $135,854\n",
       "Name: price, Length: 1000, dtype: object"
      ]
     },
     "execution_count": 7,
     "metadata": {},
     "output_type": "execute_result"
    }
   ],
   "source": [
    "#Checking for the values in a particular column-shows frist and last 5\n",
    "df['price']"
   ]
  },
  {
   "cell_type": "code",
   "execution_count": 8,
   "id": "585f950d",
   "metadata": {},
   "outputs": [
    {
     "data": {
      "text/plain": [
       "50    $346,695\n",
       "51    $538,717\n",
       "52     $65,042\n",
       "53    $757,693\n",
       "54    $111,287\n",
       "55    $527,265\n",
       "56    $721,955\n",
       "57    $251,340\n",
       "58    $929,803\n",
       "59    $889,551\n",
       "60    $610,061\n",
       "61    $640,505\n",
       "62    $716,652\n",
       "63    $873,687\n",
       "64    $706,117\n",
       "65    $840,951\n",
       "66    $199,553\n",
       "67    $373,818\n",
       "68    $514,199\n",
       "69    $318,472\n",
       "70    $467,422\n",
       "71    $781,967\n",
       "72    $881,674\n",
       "73    $622,820\n",
       "74    $926,836\n",
       "75    $795,561\n",
       "76    $423,233\n",
       "77    $606,249\n",
       "78    $120,644\n",
       "79    $543,792\n",
       "80    $636,415\n",
       "81    $679,586\n",
       "82    $781,730\n",
       "83    $616,530\n",
       "84    $473,870\n",
       "85     $18,291\n",
       "86    $533,598\n",
       "87    $506,064\n",
       "88    $303,837\n",
       "89    $980,281\n",
       "90    $944,278\n",
       "91    $646,322\n",
       "92    $683,725\n",
       "93    $476,000\n",
       "94    $703,224\n",
       "95    $466,121\n",
       "96    $592,049\n",
       "97    $715,139\n",
       "98    $556,963\n",
       "99     $31,455\n",
       "Name: price, dtype: object"
      ]
     },
     "execution_count": 8,
     "metadata": {},
     "output_type": "execute_result"
    }
   ],
   "source": [
    "#Checking for the values between observations (50-60) in price.\n",
    "df.price[50:100]"
   ]
  },
  {
   "cell_type": "code",
   "execution_count": 9,
   "id": "5131729d",
   "metadata": {},
   "outputs": [
    {
     "name": "stdout",
     "output_type": "stream",
     "text": [
      "<class 'pandas.core.frame.DataFrame'>\n",
      "RangeIndex: 1000 entries, 0 to 999\n",
      "Data columns (total 6 columns):\n",
      " #   Column         Non-Null Count  Dtype  \n",
      "---  ------         --------------  -----  \n",
      " 0   property_type  1000 non-null   object \n",
      " 1   state          133 non-null    object \n",
      " 2   latitude       1000 non-null   float64\n",
      " 3   longitude      1000 non-null   float64\n",
      " 4   area           1000 non-null   float64\n",
      " 5   price          1000 non-null   float64\n",
      "dtypes: float64(4), object(2)\n",
      "memory usage: 47.0+ KB\n"
     ]
    },
    {
     "data": {
      "text/html": [
       "<div>\n",
       "<style scoped>\n",
       "    .dataframe tbody tr th:only-of-type {\n",
       "        vertical-align: middle;\n",
       "    }\n",
       "\n",
       "    .dataframe tbody tr th {\n",
       "        vertical-align: top;\n",
       "    }\n",
       "\n",
       "    .dataframe thead th {\n",
       "        text-align: right;\n",
       "    }\n",
       "</style>\n",
       "<table border=\"1\" class=\"dataframe\">\n",
       "  <thead>\n",
       "    <tr style=\"text-align: right;\">\n",
       "      <th></th>\n",
       "      <th>property_type</th>\n",
       "      <th>state</th>\n",
       "      <th>latitude</th>\n",
       "      <th>longitude</th>\n",
       "      <th>area</th>\n",
       "      <th>price</th>\n",
       "    </tr>\n",
       "  </thead>\n",
       "  <tbody>\n",
       "    <tr>\n",
       "      <th>0</th>\n",
       "      <td>townhouse</td>\n",
       "      <td>NaN</td>\n",
       "      <td>43.258740</td>\n",
       "      <td>17.888008</td>\n",
       "      <td>434.97</td>\n",
       "      <td>541885.0</td>\n",
       "    </tr>\n",
       "    <tr>\n",
       "      <th>1</th>\n",
       "      <td>house</td>\n",
       "      <td>NaN</td>\n",
       "      <td>34.620202</td>\n",
       "      <td>112.453926</td>\n",
       "      <td>348.25</td>\n",
       "      <td>601831.0</td>\n",
       "    </tr>\n",
       "    <tr>\n",
       "      <th>2</th>\n",
       "      <td>condo</td>\n",
       "      <td>NaN</td>\n",
       "      <td>-4.163679</td>\n",
       "      <td>18.807620</td>\n",
       "      <td>729.05</td>\n",
       "      <td>153200.0</td>\n",
       "    </tr>\n",
       "    <tr>\n",
       "      <th>3</th>\n",
       "      <td>townhouse</td>\n",
       "      <td>NaN</td>\n",
       "      <td>22.826877</td>\n",
       "      <td>107.840624</td>\n",
       "      <td>431.57</td>\n",
       "      <td>646160.0</td>\n",
       "    </tr>\n",
       "    <tr>\n",
       "      <th>4</th>\n",
       "      <td>villa</td>\n",
       "      <td>NaN</td>\n",
       "      <td>27.483293</td>\n",
       "      <td>120.562211</td>\n",
       "      <td>135.08</td>\n",
       "      <td>885209.0</td>\n",
       "    </tr>\n",
       "  </tbody>\n",
       "</table>\n",
       "</div>"
      ],
      "text/plain": [
       "  property_type state   latitude   longitude    area     price\n",
       "0     townhouse   NaN  43.258740   17.888008  434.97  541885.0\n",
       "1         house   NaN  34.620202  112.453926  348.25  601831.0\n",
       "2         condo   NaN  -4.163679   18.807620  729.05  153200.0\n",
       "3     townhouse   NaN  22.826877  107.840624  431.57  646160.0\n",
       "4         villa   NaN  27.483293  120.562211  135.08  885209.0"
      ]
     },
     "execution_count": 9,
     "metadata": {},
     "output_type": "execute_result"
    }
   ],
   "source": [
    "# Ensure 'price' column is of string data type\n",
    "df['price'] = df['price'].astype(str)\n",
    "\n",
    "\"\"\"To drop a column that is not needed or in use then use the method\n",
    "df.drop(columns=[\"price\"] inplace=True)\"\"\"\n",
    "\n",
    "#To remove '$' and ',' from the price column and change the datatype to floating-point(float) for manipulation of data with pandas.\n",
    "df[\"price\"]= (\n",
    "    df[\"price\"]\n",
    "    .str.replace(\"$\" , \"\", regex=False)\n",
    "    .str.replace(\",\" , \"\")\n",
    "    .astype(float)\n",
    ")\n",
    "df.info()\n",
    "df.head()\n"
   ]
  },
  {
   "cell_type": "code",
   "execution_count": null,
   "id": "1d728d23",
   "metadata": {},
   "outputs": [],
   "source": []
  },
  {
   "cell_type": "code",
   "execution_count": null,
   "id": "ce134309",
   "metadata": {},
   "outputs": [],
   "source": []
  }
 ],
 "metadata": {
  "kernelspec": {
   "display_name": "Python 3 (ipykernel)",
   "language": "python",
   "name": "python3"
  },
  "language_info": {
   "codemirror_mode": {
    "name": "ipython",
    "version": 3
   },
   "file_extension": ".py",
   "mimetype": "text/x-python",
   "name": "python",
   "nbconvert_exporter": "python",
   "pygments_lexer": "ipython3",
   "version": "3.11.3"
  }
 },
 "nbformat": 4,
 "nbformat_minor": 5
}
